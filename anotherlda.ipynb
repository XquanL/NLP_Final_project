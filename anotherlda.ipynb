{
 "cells": [
  {
   "cell_type": "code",
   "execution_count": 2,
   "metadata": {},
   "outputs": [
    {
     "name": "stderr",
     "output_type": "stream",
     "text": [
      "/home/codespace/.python/current/lib/python3.10/site-packages/tqdm/auto.py:22: TqdmWarning: IProgress not found. Please update jupyter and ipywidgets. See https://ipywidgets.readthedocs.io/en/stable/user_install.html\n",
      "  from .autonotebook import tqdm as notebook_tqdm\n"
     ]
    }
   ],
   "source": [
    "import pandas as pd\n",
    "import joblib\n",
    "import numpy as np\n",
    "import os\n",
    "import re\n",
    "import gensim\n",
    "from gensim.utils import simple_preprocess\n",
    "import nltk\n",
    "from nltk.corpus import stopwords\n",
    "from nltk.tokenize import word_tokenize\n",
    "from nltk.stem import WordNetLemmatizer\n",
    "from torchnlp.encoders.text import WhitespaceEncoder\n",
    "from sklearn.feature_extraction.text import CountVectorizer, TfidfVectorizer\n",
    "from sklearn.decomposition import LatentDirichletAllocation\n",
    "from sklearn.model_selection import train_test_split"
   ]
  },
  {
   "cell_type": "code",
   "execution_count": 3,
   "metadata": {},
   "outputs": [],
   "source": [
    "lyrics =pd.read_csv('https://raw.githubusercontent.com/tashapiro/predicting-song-music-genre/main/data/lyrics_processed.csv')"
   ]
  },
  {
   "cell_type": "code",
   "execution_count": 4,
   "metadata": {},
   "outputs": [],
   "source": [
    "EMOJI_REGEX = re.compile(\n",
    "    \"([\"\n",
    "    \"\\U0001F300-\\U0001F5FF\"  # symbols & pictographs\n",
    "    \"\\U0001F600-\\U0001F64F\"  # emoticons\n",
    "    \"\\U0001F680-\\U0001F6FF\"  # transport & map symbols\n",
    "    \"\\U0001F700-\\U0001F77F\"  # alchemical symbols\n",
    "    \"\\U0001F780-\\U0001F7FF\"  # Geometric Shapes Extended\n",
    "    \"\\U0001F800-\\U0001F8FF\"  # Supplemental Arrows-C\n",
    "    \"\\U0001F900-\\U0001F9FF\"  # Supplemental Symbols and Pictographs\n",
    "    \"\\U0001FA00-\\U0001FA6F\"  # Chess Symbols\n",
    "    \"\\U0001FA70-\\U0001FAFF\"  # Symbols and Pictographs Extended-A\n",
    "    \"\\U00002702-\\U000027B0\"  # Dingbats\n",
    "    \"\\U000024C2-\\U0001F251\"\n",
    "    \"])\"\n",
    ")"
   ]
  },
  {
   "cell_type": "code",
   "execution_count": 5,
   "metadata": {},
   "outputs": [
    {
     "name": "stdout",
     "output_type": "stream",
     "text": [
      "re.compile('([🌀-🗿😀-🙏🚀-\\U0001f6ff🜀-\\U0001f77f🞀-\\U0001f7ff🠀-\\U0001f8ff🤀-🧿🨀-\\U0001fa6f🩰-\\U0001faff✂-➰Ⓜ-🉑])')\n"
     ]
    }
   ],
   "source": [
    "print(EMOJI_REGEX)"
   ]
  },
  {
   "cell_type": "code",
   "execution_count": 6,
   "metadata": {},
   "outputs": [],
   "source": [
    "# remove puntuation\n",
    "lyrics['final_lyrics'] = lyrics['cleaned_lyrics'].map(lambda x : re.sub(r\"\"\"[!\"#\\$%&'\\(\\)\\*\\+,-\\./:;\\<=\\>?\\[\\]\\^_`\\{\\|\\}~“”’]\"\"\", '', x))\n",
    "#lower case\n",
    "lyrics['final_lyrics'] = lyrics['final_lyrics'].map(lambda x: x.lower())\n",
    "#remove emoji\n",
    "lyrics['final_lyrics'] = lyrics['final_lyrics'].str.replace(\n",
    "        EMOJI_REGEX, r\" \\1 \", regex=True\n",
    "    ) \n",
    "#remove double space\n",
    "lyrics['final_lyrics'] = lyrics[\"final_lyrics\"].str.replace(r\"\\s+\", \" \", regex=True).str.strip()"
   ]
  },
  {
   "cell_type": "code",
   "execution_count": 7,
   "metadata": {},
   "outputs": [
    {
     "data": {
      "text/html": [
       "<div>\n",
       "<style scoped>\n",
       "    .dataframe tbody tr th:only-of-type {\n",
       "        vertical-align: middle;\n",
       "    }\n",
       "\n",
       "    .dataframe tbody tr th {\n",
       "        vertical-align: top;\n",
       "    }\n",
       "\n",
       "    .dataframe thead th {\n",
       "        text-align: right;\n",
       "    }\n",
       "</style>\n",
       "<table border=\"1\" class=\"dataframe\">\n",
       "  <thead>\n",
       "    <tr style=\"text-align: right;\">\n",
       "      <th></th>\n",
       "      <th>genre</th>\n",
       "      <th>final_lyrics</th>\n",
       "    </tr>\n",
       "  </thead>\n",
       "  <tbody>\n",
       "    <tr>\n",
       "      <th>0</th>\n",
       "      <td>country</td>\n",
       "      <td>every time our eyes meet this feeling inside m...</td>\n",
       "    </tr>\n",
       "    <tr>\n",
       "      <th>1</th>\n",
       "      <td>country</td>\n",
       "      <td>when the sun goes down on my side of town that...</td>\n",
       "    </tr>\n",
       "    <tr>\n",
       "      <th>2</th>\n",
       "      <td>country</td>\n",
       "      <td>it was seven hundred fence posts from your pla...</td>\n",
       "    </tr>\n",
       "    <tr>\n",
       "      <th>3</th>\n",
       "      <td>country</td>\n",
       "      <td>kelsea ballerini dibs dolly parton jolene clar...</td>\n",
       "    </tr>\n",
       "    <tr>\n",
       "      <th>4</th>\n",
       "      <td>country</td>\n",
       "      <td>something bout the way shes wearing her dress ...</td>\n",
       "    </tr>\n",
       "  </tbody>\n",
       "</table>\n",
       "</div>"
      ],
      "text/plain": [
       "     genre                                       final_lyrics\n",
       "0  country  every time our eyes meet this feeling inside m...\n",
       "1  country  when the sun goes down on my side of town that...\n",
       "2  country  it was seven hundred fence posts from your pla...\n",
       "3  country  kelsea ballerini dibs dolly parton jolene clar...\n",
       "4  country  something bout the way shes wearing her dress ..."
      ]
     },
     "execution_count": 7,
     "metadata": {},
     "output_type": "execute_result"
    }
   ],
   "source": [
    "df = lyrics.loc[:,['genre','final_lyrics']]\n",
    "df.head(5)"
   ]
  },
  {
   "cell_type": "markdown",
   "metadata": {},
   "source": [
    "## Lemmatize"
   ]
  },
  {
   "cell_type": "code",
   "execution_count": 8,
   "metadata": {},
   "outputs": [],
   "source": [
    "def lemmatize(lyrics):\n",
    "    lemmatizer=WordNetLemmatizer()\n",
    "    lyrics_str=word_tokenize(lyrics)\n",
    "    new_words = []\n",
    "    for word in lyrics_str:\n",
    "        new_words.append(lemmatizer.lemmatize(word))\n",
    "    return ' '.join(new_words)\n",
    "\n",
    "df[\"ly\"] = df[\"final_lyrics\"].apply(lemmatize)"
   ]
  },
  {
   "cell_type": "markdown",
   "metadata": {},
   "source": [
    "## using nltk to remove stop words\n",
    "Stop words are common words like ‘the’, ‘and’, ‘I’, etc. that are very frequent in text, and so don’t convey insights into the specific topic of a document. We can remove these stop words from the text in a given corpus to clean up the data, and identify words that are more rare and potentially more relevant to what we’re interested in."
   ]
  },
  {
   "cell_type": "code",
   "execution_count": 9,
   "metadata": {},
   "outputs": [
    {
     "name": "stderr",
     "output_type": "stream",
     "text": [
      "[nltk_data] Downloading package stopwords to\n",
      "[nltk_data]     /home/codespace/nltk_data...\n",
      "[nltk_data]   Package stopwords is already up-to-date!\n"
     ]
    }
   ],
   "source": [
    "nltk.download('stopwords')\n",
    "stop_words = stopwords.words('english')\n",
    "stop_words.extend(['oh','ohh'])\n",
    "rm_words = set(stop_words)\n"
   ]
  },
  {
   "cell_type": "code",
   "execution_count": 10,
   "metadata": {},
   "outputs": [],
   "source": [
    "df[\"rm_ly\"] = df[\"ly\"].str.split().apply(lambda x: \" \".join(word for word in x if word not in rm_words))"
   ]
  },
  {
   "cell_type": "code",
   "execution_count": 11,
   "metadata": {},
   "outputs": [
    {
     "data": {
      "text/html": [
       "<div>\n",
       "<style scoped>\n",
       "    .dataframe tbody tr th:only-of-type {\n",
       "        vertical-align: middle;\n",
       "    }\n",
       "\n",
       "    .dataframe tbody tr th {\n",
       "        vertical-align: top;\n",
       "    }\n",
       "\n",
       "    .dataframe thead th {\n",
       "        text-align: right;\n",
       "    }\n",
       "</style>\n",
       "<table border=\"1\" class=\"dataframe\">\n",
       "  <thead>\n",
       "    <tr style=\"text-align: right;\">\n",
       "      <th></th>\n",
       "      <th>genre</th>\n",
       "      <th>final_lyrics</th>\n",
       "      <th>ly</th>\n",
       "      <th>rm_ly</th>\n",
       "    </tr>\n",
       "  </thead>\n",
       "  <tbody>\n",
       "    <tr>\n",
       "      <th>0</th>\n",
       "      <td>country</td>\n",
       "      <td>every time our eyes meet this feeling inside m...</td>\n",
       "      <td>every time our eye meet this feeling inside me...</td>\n",
       "      <td>every time eye meet feeling inside almost take...</td>\n",
       "    </tr>\n",
       "    <tr>\n",
       "      <th>1</th>\n",
       "      <td>country</td>\n",
       "      <td>when the sun goes down on my side of town that...</td>\n",
       "      <td>when the sun go down on my side of town that l...</td>\n",
       "      <td>sun go side town lonesome feelin come door who...</td>\n",
       "    </tr>\n",
       "    <tr>\n",
       "      <th>2</th>\n",
       "      <td>country</td>\n",
       "      <td>it was seven hundred fence posts from your pla...</td>\n",
       "      <td>it wa seven hundred fence post from your place...</td>\n",
       "      <td>wa seven hundred fence post place neither one ...</td>\n",
       "    </tr>\n",
       "    <tr>\n",
       "      <th>3</th>\n",
       "      <td>country</td>\n",
       "      <td>kelsea ballerini dibs dolly parton jolene clar...</td>\n",
       "      <td>kelsea ballerini dibs dolly parton jolene clar...</td>\n",
       "      <td>kelsea ballerini dibs dolly parton jolene clar...</td>\n",
       "    </tr>\n",
       "    <tr>\n",
       "      <th>4</th>\n",
       "      <td>country</td>\n",
       "      <td>something bout the way shes wearing her dress ...</td>\n",
       "      <td>something bout the way shes wearing her dress ...</td>\n",
       "      <td>something bout way shes wearing dress little t...</td>\n",
       "    </tr>\n",
       "  </tbody>\n",
       "</table>\n",
       "</div>"
      ],
      "text/plain": [
       "     genre                                       final_lyrics  \\\n",
       "0  country  every time our eyes meet this feeling inside m...   \n",
       "1  country  when the sun goes down on my side of town that...   \n",
       "2  country  it was seven hundred fence posts from your pla...   \n",
       "3  country  kelsea ballerini dibs dolly parton jolene clar...   \n",
       "4  country  something bout the way shes wearing her dress ...   \n",
       "\n",
       "                                                  ly  \\\n",
       "0  every time our eye meet this feeling inside me...   \n",
       "1  when the sun go down on my side of town that l...   \n",
       "2  it wa seven hundred fence post from your place...   \n",
       "3  kelsea ballerini dibs dolly parton jolene clar...   \n",
       "4  something bout the way shes wearing her dress ...   \n",
       "\n",
       "                                               rm_ly  \n",
       "0  every time eye meet feeling inside almost take...  \n",
       "1  sun go side town lonesome feelin come door who...  \n",
       "2  wa seven hundred fence post place neither one ...  \n",
       "3  kelsea ballerini dibs dolly parton jolene clar...  \n",
       "4  something bout way shes wearing dress little t...  "
      ]
     },
     "execution_count": 11,
     "metadata": {},
     "output_type": "execute_result"
    }
   ],
   "source": [
    "df.head()"
   ]
  },
  {
   "cell_type": "code",
   "execution_count": 12,
   "metadata": {},
   "outputs": [],
   "source": [
    "#convert genre to category and rm_ly to string\n",
    "df.rm_ly = df.rm_ly.astype(\"string\")\n",
    "df.genre = df.genre.astype(\"category\")"
   ]
  },
  {
   "cell_type": "code",
   "execution_count": 13,
   "metadata": {},
   "outputs": [
    {
     "name": "stdout",
     "output_type": "stream",
     "text": [
      "<class 'pandas.core.frame.DataFrame'>\n",
      "RangeIndex: 3420 entries, 0 to 3419\n",
      "Data columns (total 4 columns):\n",
      " #   Column        Non-Null Count  Dtype   \n",
      "---  ------        --------------  -----   \n",
      " 0   genre         3420 non-null   category\n",
      " 1   final_lyrics  3420 non-null   object  \n",
      " 2   ly            3420 non-null   object  \n",
      " 3   rm_ly         3420 non-null   string  \n",
      "dtypes: category(1), object(2), string(1)\n",
      "memory usage: 83.8+ KB\n"
     ]
    }
   ],
   "source": [
    "df.info()"
   ]
  },
  {
   "cell_type": "code",
   "execution_count": 18,
   "metadata": {},
   "outputs": [],
   "source": [
    "xtrain, xtest, ytrain, ytest = train_test_split(\n",
    "    df[\"rm_ly\"].to_frame(), df[\"genre\"], test_size=0.2, random_state=42\n",
    ")"
   ]
  },
  {
   "cell_type": "code",
   "execution_count": 20,
   "metadata": {},
   "outputs": [
    {
     "name": "stdout",
     "output_type": "stream",
     "text": [
      "(2736, 1)\n",
      "(684, 1)\n"
     ]
    }
   ],
   "source": [
    "for x_ in (xtrain, xtest):\n",
    "    print(x_.shape)"
   ]
  },
  {
   "cell_type": "code",
   "execution_count": 16,
   "metadata": {},
   "outputs": [],
   "source": [
    "def whitespace_encode(data: pd.DataFrame) -> pd.DataFrame:\n",
    "    input_ = df[\"rm_ly\"].tolist()\n",
    "    encoder = WhitespaceEncoder(input_, min_occurrences=2)\n",
    "    encoded_data = [encoder.encode(example) for example in input_]\n",
    "    with open(\"../encoder.pickle\", \"wb\") as file:\n",
    "        joblib.dump(encoder, file)\n",
    "    print(\"Saved encoder to disk.\")"
   ]
  },
  {
   "cell_type": "code",
   "execution_count": 17,
   "metadata": {},
   "outputs": [
    {
     "name": "stdout",
     "output_type": "stream",
     "text": [
      "Saved encoder to disk.\n"
     ]
    }
   ],
   "source": [
    "_ = whitespace_encode(xtrain)"
   ]
  },
  {
   "cell_type": "code",
   "execution_count": null,
   "metadata": {},
   "outputs": [],
   "source": []
  }
 ],
 "metadata": {
  "kernelspec": {
   "display_name": "Python 3.10.4 64-bit",
   "language": "python",
   "name": "python3"
  },
  "language_info": {
   "codemirror_mode": {
    "name": "ipython",
    "version": 3
   },
   "file_extension": ".py",
   "mimetype": "text/x-python",
   "name": "python",
   "nbconvert_exporter": "python",
   "pygments_lexer": "ipython3",
   "version": "3.10.4"
  },
  "orig_nbformat": 4,
  "vscode": {
   "interpreter": {
    "hash": "3ad933181bd8a04b432d3370b9dc3b0662ad032c4dfaa4e4f1596c548f763858"
   }
  }
 },
 "nbformat": 4,
 "nbformat_minor": 2
}
