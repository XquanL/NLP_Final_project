{
 "cells": [
  {
   "cell_type": "code",
   "execution_count": 1,
   "metadata": {},
   "outputs": [
    {
     "name": "stderr",
     "output_type": "stream",
     "text": [
      "[nltk_data] Downloading package stopwords to\n",
      "[nltk_data]     /home/codespace/nltk_data...\n",
      "[nltk_data]   Package stopwords is already up-to-date!\n",
      "[nltk_data] Downloading package punkt to /home/codespace/nltk_data...\n",
      "[nltk_data]   Package punkt is already up-to-date!\n",
      "[nltk_data] Downloading package wordnet to\n",
      "[nltk_data]     /home/codespace/nltk_data...\n",
      "[nltk_data]   Package wordnet is already up-to-date!\n"
     ]
    },
    {
     "data": {
      "text/plain": [
       "True"
      ]
     },
     "execution_count": 1,
     "metadata": {},
     "output_type": "execute_result"
    }
   ],
   "source": [
    "import pandas as pd\n",
    "import numpy as np\n",
    "from bs4 import BeautifulSoup\n",
    "import string\n",
    "import re\n",
    "from nltk.tokenize import word_tokenize\n",
    "from nltk.corpus import stopwords\n",
    "from nltk.stem import WordNetLemmatizer\n",
    "from dateutil import parser\n",
    "from sklearn.feature_extraction.text import CountVectorizer\n",
    "from sklearn.decomposition import LatentDirichletAllocation as LDA\n",
    "import nltk\n",
    "nltk.download('stopwords')\n",
    "nltk.download('punkt')\n",
    "nltk.download('wordnet')"
   ]
  },
  {
   "cell_type": "code",
   "execution_count": 3,
   "metadata": {},
   "outputs": [],
   "source": [
    "lyrics =pd.read_csv('https://raw.githubusercontent.com/tashapiro/predicting-song-music-genre/main/data/lyrics_processed.csv')"
   ]
  },
  {
   "cell_type": "markdown",
   "metadata": {},
   "source": [
    "## Perform NLP to Lyrics"
   ]
  },
  {
   "cell_type": "code",
   "execution_count": 7,
   "metadata": {},
   "outputs": [],
   "source": [
    "def lowercase(lyrics):\n",
    "    return lyrics.lower()\n",
    "\n",
    "def remove_punctuation(lyrics):\n",
    "    return re.sub(r\"\"\"[!\"#\\$%&'\\(\\)\\*\\+,-\\./:;\\<=\\>?\\[\\]\\^_`\\{\\|\\}~“”’]\"\"\", '', lyrics)\n",
    "\n",
    "def remove_white_space(lyrics):\n",
    "    return \" \".join(lyrics.split())\n",
    "\n",
    "def tokenize(lyrics):\n",
    "    return word_tokenize(lyrics)\n",
    "\n",
    "def remove_stop_words(lyrics):\n",
    "    stop_words = stopwords.words('english')\n",
    "    stop_words.extend(['oh','ohh'])\n",
    "    lyrics = word_tokenize(lyrics)\n",
    "    return [word for word in lyrics if word not in stop_words]\n",
    "\n",
    "def lemmatize(lyrics):\n",
    "    lemmatizer=WordNetLemmatizer()\n",
    "    lyrics_str=word_tokenize(lyrics)\n",
    "    new_words = []\n",
    "    for word in lyrics_str:\n",
    "        new_words.append(lemmatizer.lemmatize(word))\n",
    "    return ' '.join(new_words)\n",
    "\n",
    "def nlp_pipline(input):\n",
    "    return lemmatize(' '.join(remove_stop_words(remove_white_space(remove_punctuation(lowercase(input))))))\n"
   ]
  },
  {
   "cell_type": "markdown",
   "metadata": {},
   "source": [
    "Use CounterVectorizer to turn our text into a matrix of token counts i.e. count the number of instances of each token/word in our body of text.\n",
    "\n",
    "Find one genre and 20 words per genre in our body of text."
   ]
  },
  {
   "cell_type": "code",
   "execution_count": 5,
   "metadata": {},
   "outputs": [],
   "source": [
    "genre = set(lyrics['genre'])"
   ]
  },
  {
   "cell_type": "code",
   "execution_count": 6,
   "metadata": {},
   "outputs": [
    {
     "data": {
      "text/plain": [
       "{'country', 'dance_pop', 'hip_hop', 'rock'}"
      ]
     },
     "execution_count": 6,
     "metadata": {},
     "output_type": "execute_result"
    }
   ],
   "source": [
    "genre"
   ]
  },
  {
   "cell_type": "code",
   "execution_count": null,
   "metadata": {},
   "outputs": [],
   "source": [
    "for i in "
   ]
  }
 ],
 "metadata": {
  "kernelspec": {
   "display_name": "Python 3.10.4 64-bit",
   "language": "python",
   "name": "python3"
  },
  "language_info": {
   "codemirror_mode": {
    "name": "ipython",
    "version": 3
   },
   "file_extension": ".py",
   "mimetype": "text/x-python",
   "name": "python",
   "nbconvert_exporter": "python",
   "pygments_lexer": "ipython3",
   "version": "3.10.4"
  },
  "orig_nbformat": 4,
  "vscode": {
   "interpreter": {
    "hash": "3ad933181bd8a04b432d3370b9dc3b0662ad032c4dfaa4e4f1596c548f763858"
   }
  }
 },
 "nbformat": 4,
 "nbformat_minor": 2
}
